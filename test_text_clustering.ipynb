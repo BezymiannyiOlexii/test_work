{
  "nbformat": 4,
  "nbformat_minor": 0,
  "metadata": {
    "colab": {
      "name": "test_text_clustering.ipynb",
      "provenance": [],
      "collapsed_sections": [],
      "authorship_tag": "ABX9TyOIn36OQTAXsl1O6Pb+mOgX",
      "include_colab_link": true
    },
    "kernelspec": {
      "name": "python3",
      "display_name": "Python 3"
    },
    "language_info": {
      "name": "python"
    }
  },
  "cells": [
    {
      "cell_type": "markdown",
      "metadata": {
        "id": "view-in-github",
        "colab_type": "text"
      },
      "source": [
        "<a href=\"https://colab.research.google.com/github/BezymiannyiOlexii/test_work/blob/main/test_text_clustering.ipynb\" target=\"_parent\"><img src=\"https://colab.research.google.com/assets/colab-badge.svg\" alt=\"Open In Colab\"/></a>"
      ]
    },
    {
      "cell_type": "code",
      "execution_count": null,
      "metadata": {
        "id": "c6FHnG_2ZFFM"
      },
      "outputs": [],
      "source": [
        "from sklearn.datasets import fetch_20newsgroups\n",
        "import nltk\n",
        "from nltk.tokenize import word_tokenize\n",
        "from sklearn.feature_extraction.text import TfidfVectorizer\n",
        "from nltk.corpus import stopwords\n",
        "from sklearn.cluster import KMeans"
      ]
    },
    {
      "cell_type": "markdown",
      "source": [
        "# data\n"
      ],
      "metadata": {
        "id": "fqU0_Vz0oiDy"
      }
    },
    {
      "cell_type": "code",
      "source": [
        "newsgroups_train = fetch_20newsgroups(subset='train')"
      ],
      "metadata": {
        "id": "ZIoWxOxtQFV0"
      },
      "execution_count": null,
      "outputs": []
    },
    {
      "cell_type": "code",
      "source": [
        "# view the raw data\n",
        "print(newsgroups_train.data[0])"
      ],
      "metadata": {
        "colab": {
          "base_uri": "https://localhost:8080/"
        },
        "id": "GMfdMYcZx_Et",
        "outputId": "5cc1ca39-a8fe-465d-9e31-156ad05ad4ed"
      },
      "execution_count": null,
      "outputs": [
        {
          "output_type": "stream",
          "name": "stdout",
          "text": [
            "From: lerxst@wam.umd.edu (where's my thing)\n",
            "Subject: WHAT car is this!?\n",
            "Nntp-Posting-Host: rac3.wam.umd.edu\n",
            "Organization: University of Maryland, College Park\n",
            "Lines: 15\n",
            "\n",
            " I was wondering if anyone out there could enlighten me on this car I saw\n",
            "the other day. It was a 2-door sports car, looked to be from the late 60s/\n",
            "early 70s. It was called a Bricklin. The doors were really small. In addition,\n",
            "the front bumper was separate from the rest of the body. This is \n",
            "all I know. If anyone can tellme a model name, engine specs, years\n",
            "of production, where this car is made, history, or whatever info you\n",
            "have on this funky looking car, please e-mail.\n",
            "\n",
            "Thanks,\n",
            "- IL\n",
            "   ---- brought to you by your neighborhood Lerxst ----\n",
            "\n",
            "\n",
            "\n",
            "\n",
            "\n"
          ]
        }
      ]
    },
    {
      "cell_type": "code",
      "source": [
        "# add some words tostopwords which are commonly used in this articles\n",
        "nltk.download('stopwords')\n",
        "stopWords = stopwords.words('english') + ['Subject', 'From', 'Summary', 'Keywords', 'Lines']\n",
        "stopWords = set(stopWords) "
      ],
      "metadata": {
        "colab": {
          "base_uri": "https://localhost:8080/"
        },
        "id": "SowwHbH9IpXV",
        "outputId": "fc569b3e-7e59-4d49-a74b-3b5a8565d96f"
      },
      "execution_count": null,
      "outputs": [
        {
          "output_type": "stream",
          "name": "stdout",
          "text": [
            "[nltk_data] Downloading package stopwords to /root/nltk_data...\n",
            "[nltk_data]   Package stopwords is already up-to-date!\n"
          ]
        }
      ]
    },
    {
      "cell_type": "code",
      "source": [
        "nltk.download('wordnet')\n",
        "wnl = nltk.WordNetLemmatizer()\n",
        "\n",
        "def preprocessing(text):\n",
        "    '''\n",
        "    preprocessing our texts: remove all stop_words -> lower case -> tokinize -> lemmatize\n",
        "    '''\n",
        "    return ' '.join([wnl.lemmatize(word) for word in word_tokenize(text.lower()) if word not in stopWords])\n"
      ],
      "metadata": {
        "colab": {
          "base_uri": "https://localhost:8080/"
        },
        "id": "r7xSjAkXSSxk",
        "outputId": "4237f9b7-d5ca-47bc-e5eb-8ba2925c152c"
      },
      "execution_count": null,
      "outputs": [
        {
          "output_type": "stream",
          "name": "stdout",
          "text": [
            "[nltk_data] Downloading package wordnet to /root/nltk_data...\n",
            "[nltk_data]   Package wordnet is already up-to-date!\n"
          ]
        }
      ]
    },
    {
      "cell_type": "code",
      "source": [
        "# create, fit and transform the TfidfVectorizer that implement TF-IDF algorithm\n",
        "vectorizer = TfidfVectorizer(ngram_range=(1, 3), max_df=0.5, max_features=500,\\\n",
        "                             preprocessor=preprocessing)\n",
        "vectors = vectorizer.fit_transform(newsgroups_train.data)"
      ],
      "metadata": {
        "id": "uNSUa3MemTK3"
      },
      "execution_count": null,
      "outputs": []
    },
    {
      "cell_type": "code",
      "source": [
        "X = vectors.todense() #convert the sparse to dense matrix"
      ],
      "metadata": {
        "id": "OhWAMwaTR9C5"
      },
      "execution_count": null,
      "outputs": []
    },
    {
      "cell_type": "markdown",
      "source": [
        "# clustering"
      ],
      "metadata": {
        "id": "z8B6rFuR1B91"
      }
    },
    {
      "cell_type": "markdown",
      "source": [
        "В блоке кластеризации - мы предположили, что знаем количество кластеров, после просмотра сырых данных. Если же это не так, нам следует использовать алгортим класстеризации которому не требуется инициализировать количество кластеров заранее."
      ],
      "metadata": {
        "id": "Mzz71S9T0YmO"
      }
    },
    {
      "cell_type": "code",
      "source": [
        "# clustering our data with k-means\n",
        "kmeans = KMeans(n_clusters=20).fit(X)"
      ],
      "metadata": {
        "colab": {
          "base_uri": "https://localhost:8080/"
        },
        "id": "SeFCMO-lSVng",
        "outputId": "d71d31d0-a67d-4bb0-806a-68ac6cb47cb9"
      },
      "execution_count": null,
      "outputs": [
        {
          "output_type": "stream",
          "name": "stderr",
          "text": [
            "/usr/local/lib/python3.7/dist-packages/sklearn/utils/validation.py:590: FutureWarning: np.matrix usage is deprecated in 1.0 and will raise a TypeError in 1.2. Please convert to a numpy array with np.asarray. For more information see: https://numpy.org/doc/stable/reference/generated/numpy.matrix.html\n",
            "  FutureWarning,\n"
          ]
        }
      ]
    },
    {
      "cell_type": "code",
      "source": [
        "labels = kmeans.labels_ # labels - are output and aim of our work\n",
        "print(labels[:15])"
      ],
      "metadata": {
        "colab": {
          "base_uri": "https://localhost:8080/"
        },
        "id": "jq1u3MPpUKOk",
        "outputId": "a04ad091-9968-42a6-d61e-07842afe1cce"
      },
      "execution_count": null,
      "outputs": [
        {
          "output_type": "stream",
          "name": "stdout",
          "text": [
            "[15  5  9 16  9  8  9  0  9  9  9  6 17  7 10]\n"
          ]
        }
      ]
    },
    {
      "cell_type": "markdown",
      "source": [
        "Приметка: Я не использовал эмбеддинги, т.к. мы не можем использовать лейблы, для обучения CNN на эмбеддингов слов, что бы векторно представить текст. Мы можем, к примеру, суммировать эмбедденги слов для текста, что не есть решением лучше, чем представленное мной (TF-IDF)."
      ],
      "metadata": {
        "id": "6ubfAOcsmRFA"
      }
    },
    {
      "cell_type": "markdown",
      "source": [
        "# Visualization "
      ],
      "metadata": {
        "id": "cFaDXLUYmCsr"
      }
    },
    {
      "cell_type": "code",
      "source": [
        "class Visual():\n",
        "  '''\n",
        "  class created for visualization the results of our clustering,\n",
        "  for visualization call print_class function\n",
        "  '''\n",
        "\n",
        "  def __init__(self, labels, data):\n",
        "    '''\n",
        "    labels - list of labels from classifier \n",
        "    data - dataset with input data of name of articles\n",
        "    '''\n",
        "\n",
        "    self.labels = labels\n",
        "    self.data = data\n",
        "\n",
        "  def print_class(self, index):\n",
        "    '''\n",
        "    index - in range (0-19)\n",
        "    '''\n",
        "\n",
        "    for count, ind in enumerate(self.labels):\n",
        "      if ind == index:\n",
        "        print(newsgroups_train.filenames[count].split('/')[-2])"
      ],
      "metadata": {
        "id": "EGrIaEH2oFNc"
      },
      "execution_count": null,
      "outputs": []
    },
    {
      "cell_type": "code",
      "source": [
        "# create the Visual class\n",
        "visualizer = Visual(labels, newsgroups_train.filenames)"
      ],
      "metadata": {
        "id": "ipn49WfqsGqw"
      },
      "execution_count": null,
      "outputs": []
    },
    {
      "cell_type": "code",
      "source": [
        "# You can set the value \"numb_of_class\" of class_number\n",
        "# to see the topics of articles that classifier summarized in one class\n",
        "numb_of_class = 2\n",
        "visualizer.print_class(numb_of_class)"
      ],
      "metadata": {
        "colab": {
          "base_uri": "https://localhost:8080/"
        },
        "id": "-c8wa1PSsQoP",
        "outputId": "2dcfc87a-1c68-4bf4-ee16-302a40fb7b3b"
      },
      "execution_count": null,
      "outputs": [
        {
          "output_type": "stream",
          "name": "stdout",
          "text": [
            "comp.os.ms-windows.misc\n",
            "comp.graphics\n",
            "comp.graphics\n",
            "comp.os.ms-windows.misc\n",
            "comp.sys.mac.hardware\n",
            "comp.sys.ibm.pc.hardware\n",
            "comp.sys.ibm.pc.hardware\n",
            "misc.forsale\n",
            "rec.sport.hockey\n",
            "comp.graphics\n",
            "misc.forsale\n",
            "comp.graphics\n",
            "comp.os.ms-windows.misc\n",
            "comp.sys.ibm.pc.hardware\n",
            "comp.graphics\n",
            "comp.sys.ibm.pc.hardware\n",
            "comp.os.ms-windows.misc\n",
            "comp.sys.ibm.pc.hardware\n",
            "comp.sys.ibm.pc.hardware\n",
            "comp.sys.mac.hardware\n",
            "comp.sys.mac.hardware\n",
            "comp.os.ms-windows.misc\n",
            "comp.sys.ibm.pc.hardware\n",
            "comp.sys.mac.hardware\n",
            "comp.sys.ibm.pc.hardware\n",
            "comp.os.ms-windows.misc\n",
            "comp.sys.ibm.pc.hardware\n",
            "comp.os.ms-windows.misc\n",
            "misc.forsale\n",
            "comp.os.ms-windows.misc\n",
            "misc.forsale\n",
            "comp.sys.ibm.pc.hardware\n",
            "comp.sys.ibm.pc.hardware\n",
            "comp.os.ms-windows.misc\n",
            "misc.forsale\n",
            "misc.forsale\n",
            "comp.sys.mac.hardware\n",
            "comp.os.ms-windows.misc\n",
            "comp.graphics\n",
            "comp.sys.mac.hardware\n",
            "comp.sys.mac.hardware\n",
            "comp.sys.ibm.pc.hardware\n",
            "comp.os.ms-windows.misc\n",
            "comp.os.ms-windows.misc\n",
            "comp.sys.ibm.pc.hardware\n",
            "comp.sys.ibm.pc.hardware\n",
            "comp.os.ms-windows.misc\n",
            "comp.sys.ibm.pc.hardware\n",
            "comp.sys.ibm.pc.hardware\n",
            "comp.os.ms-windows.misc\n",
            "comp.graphics\n",
            "comp.sys.ibm.pc.hardware\n",
            "comp.graphics\n",
            "talk.politics.guns\n",
            "comp.os.ms-windows.misc\n",
            "comp.sys.mac.hardware\n",
            "comp.sys.mac.hardware\n",
            "misc.forsale\n",
            "talk.politics.guns\n",
            "sci.electronics\n",
            "misc.forsale\n",
            "comp.sys.mac.hardware\n",
            "comp.sys.mac.hardware\n",
            "comp.os.ms-windows.misc\n",
            "misc.forsale\n",
            "comp.sys.ibm.pc.hardware\n",
            "comp.sys.ibm.pc.hardware\n",
            "comp.os.ms-windows.misc\n",
            "comp.os.ms-windows.misc\n",
            "comp.sys.ibm.pc.hardware\n",
            "comp.graphics\n",
            "comp.sys.mac.hardware\n",
            "comp.sys.ibm.pc.hardware\n",
            "comp.sys.ibm.pc.hardware\n",
            "misc.forsale\n",
            "comp.sys.ibm.pc.hardware\n",
            "comp.os.ms-windows.misc\n",
            "comp.sys.ibm.pc.hardware\n",
            "comp.graphics\n",
            "comp.sys.ibm.pc.hardware\n",
            "comp.windows.x\n",
            "misc.forsale\n",
            "comp.sys.mac.hardware\n",
            "comp.graphics\n",
            "comp.sys.ibm.pc.hardware\n",
            "comp.sys.mac.hardware\n",
            "comp.sys.ibm.pc.hardware\n",
            "comp.graphics\n",
            "comp.sys.mac.hardware\n",
            "comp.os.ms-windows.misc\n",
            "comp.graphics\n",
            "comp.sys.ibm.pc.hardware\n",
            "comp.os.ms-windows.misc\n",
            "comp.sys.ibm.pc.hardware\n",
            "misc.forsale\n",
            "comp.windows.x\n",
            "comp.os.ms-windows.misc\n",
            "comp.graphics\n",
            "comp.sys.ibm.pc.hardware\n",
            "comp.sys.mac.hardware\n",
            "comp.sys.ibm.pc.hardware\n",
            "comp.os.ms-windows.misc\n",
            "comp.sys.mac.hardware\n",
            "misc.forsale\n",
            "comp.sys.ibm.pc.hardware\n",
            "sci.electronics\n",
            "comp.sys.ibm.pc.hardware\n",
            "comp.sys.mac.hardware\n",
            "comp.graphics\n",
            "comp.sys.ibm.pc.hardware\n",
            "comp.sys.ibm.pc.hardware\n",
            "comp.graphics\n",
            "comp.sys.mac.hardware\n",
            "comp.sys.ibm.pc.hardware\n",
            "comp.os.ms-windows.misc\n",
            "comp.graphics\n",
            "comp.sys.ibm.pc.hardware\n",
            "comp.os.ms-windows.misc\n",
            "comp.os.ms-windows.misc\n",
            "comp.sys.ibm.pc.hardware\n",
            "comp.os.ms-windows.misc\n",
            "comp.os.ms-windows.misc\n",
            "misc.forsale\n",
            "comp.sys.ibm.pc.hardware\n",
            "comp.os.ms-windows.misc\n",
            "comp.os.ms-windows.misc\n",
            "comp.os.ms-windows.misc\n",
            "comp.sys.mac.hardware\n",
            "comp.sys.ibm.pc.hardware\n",
            "comp.graphics\n",
            "comp.graphics\n",
            "comp.sys.mac.hardware\n",
            "comp.os.ms-windows.misc\n",
            "comp.os.ms-windows.misc\n",
            "comp.sys.ibm.pc.hardware\n",
            "comp.os.ms-windows.misc\n",
            "comp.sys.ibm.pc.hardware\n",
            "comp.graphics\n",
            "misc.forsale\n",
            "comp.sys.mac.hardware\n",
            "comp.os.ms-windows.misc\n",
            "comp.sys.mac.hardware\n",
            "misc.forsale\n",
            "comp.sys.ibm.pc.hardware\n",
            "rec.motorcycles\n",
            "comp.sys.ibm.pc.hardware\n",
            "comp.sys.ibm.pc.hardware\n",
            "comp.sys.ibm.pc.hardware\n",
            "comp.sys.ibm.pc.hardware\n",
            "comp.sys.ibm.pc.hardware\n",
            "misc.forsale\n",
            "comp.os.ms-windows.misc\n",
            "comp.os.ms-windows.misc\n",
            "comp.os.ms-windows.misc\n",
            "comp.sys.ibm.pc.hardware\n",
            "comp.sys.mac.hardware\n",
            "comp.sys.ibm.pc.hardware\n",
            "comp.sys.ibm.pc.hardware\n",
            "comp.sys.mac.hardware\n",
            "comp.os.ms-windows.misc\n",
            "comp.graphics\n",
            "comp.sys.ibm.pc.hardware\n",
            "comp.sys.mac.hardware\n",
            "comp.sys.ibm.pc.hardware\n",
            "comp.os.ms-windows.misc\n",
            "comp.sys.ibm.pc.hardware\n",
            "comp.sys.mac.hardware\n",
            "comp.sys.ibm.pc.hardware\n",
            "comp.sys.mac.hardware\n",
            "comp.os.ms-windows.misc\n",
            "comp.sys.mac.hardware\n",
            "comp.sys.ibm.pc.hardware\n",
            "comp.sys.ibm.pc.hardware\n",
            "comp.sys.ibm.pc.hardware\n",
            "sci.electronics\n",
            "comp.graphics\n",
            "comp.sys.ibm.pc.hardware\n",
            "comp.sys.ibm.pc.hardware\n",
            "comp.graphics\n",
            "comp.os.ms-windows.misc\n",
            "comp.os.ms-windows.misc\n",
            "comp.graphics\n",
            "comp.sys.mac.hardware\n",
            "comp.os.ms-windows.misc\n",
            "comp.os.ms-windows.misc\n",
            "comp.graphics\n",
            "comp.sys.mac.hardware\n",
            "comp.os.ms-windows.misc\n",
            "comp.graphics\n",
            "comp.os.ms-windows.misc\n",
            "comp.sys.mac.hardware\n",
            "misc.forsale\n",
            "comp.os.ms-windows.misc\n",
            "misc.forsale\n",
            "comp.sys.mac.hardware\n",
            "sci.electronics\n",
            "comp.os.ms-windows.misc\n",
            "talk.politics.guns\n",
            "comp.os.ms-windows.misc\n",
            "comp.os.ms-windows.misc\n",
            "comp.sys.ibm.pc.hardware\n",
            "comp.sys.ibm.pc.hardware\n",
            "comp.os.ms-windows.misc\n",
            "comp.sys.ibm.pc.hardware\n",
            "comp.os.ms-windows.misc\n",
            "comp.sys.ibm.pc.hardware\n",
            "comp.os.ms-windows.misc\n",
            "comp.sys.ibm.pc.hardware\n",
            "misc.forsale\n",
            "comp.sys.mac.hardware\n",
            "comp.os.ms-windows.misc\n",
            "sci.electronics\n",
            "comp.os.ms-windows.misc\n",
            "sci.electronics\n",
            "comp.sys.ibm.pc.hardware\n",
            "comp.sys.ibm.pc.hardware\n",
            "comp.sys.ibm.pc.hardware\n",
            "comp.os.ms-windows.misc\n",
            "comp.sys.ibm.pc.hardware\n",
            "misc.forsale\n",
            "comp.os.ms-windows.misc\n",
            "comp.os.ms-windows.misc\n",
            "comp.sys.ibm.pc.hardware\n",
            "comp.os.ms-windows.misc\n",
            "comp.sys.ibm.pc.hardware\n",
            "comp.os.ms-windows.misc\n",
            "comp.os.ms-windows.misc\n",
            "sci.electronics\n",
            "comp.sys.ibm.pc.hardware\n",
            "comp.sys.ibm.pc.hardware\n",
            "sci.electronics\n",
            "comp.graphics\n",
            "comp.sys.ibm.pc.hardware\n",
            "comp.os.ms-windows.misc\n",
            "comp.sys.mac.hardware\n",
            "comp.sys.ibm.pc.hardware\n",
            "comp.sys.ibm.pc.hardware\n",
            "comp.os.ms-windows.misc\n",
            "comp.sys.ibm.pc.hardware\n",
            "comp.os.ms-windows.misc\n",
            "comp.sys.ibm.pc.hardware\n",
            "comp.os.ms-windows.misc\n",
            "comp.windows.x\n",
            "comp.sys.ibm.pc.hardware\n",
            "comp.os.ms-windows.misc\n",
            "comp.windows.x\n",
            "comp.sys.ibm.pc.hardware\n",
            "comp.sys.mac.hardware\n",
            "comp.os.ms-windows.misc\n",
            "rec.sport.hockey\n",
            "comp.sys.ibm.pc.hardware\n",
            "comp.graphics\n",
            "comp.sys.mac.hardware\n",
            "comp.graphics\n",
            "comp.os.ms-windows.misc\n",
            "comp.sys.ibm.pc.hardware\n",
            "comp.graphics\n",
            "comp.os.ms-windows.misc\n",
            "comp.graphics\n",
            "comp.os.ms-windows.misc\n",
            "comp.sys.ibm.pc.hardware\n",
            "comp.sys.ibm.pc.hardware\n",
            "comp.sys.ibm.pc.hardware\n",
            "talk.politics.guns\n",
            "comp.os.ms-windows.misc\n",
            "comp.os.ms-windows.misc\n",
            "comp.sys.ibm.pc.hardware\n",
            "comp.os.ms-windows.misc\n",
            "comp.graphics\n",
            "comp.graphics\n",
            "comp.sys.ibm.pc.hardware\n",
            "misc.forsale\n",
            "comp.os.ms-windows.misc\n",
            "comp.sys.ibm.pc.hardware\n",
            "comp.os.ms-windows.misc\n",
            "comp.sys.ibm.pc.hardware\n"
          ]
        }
      ]
    }
  ]
}